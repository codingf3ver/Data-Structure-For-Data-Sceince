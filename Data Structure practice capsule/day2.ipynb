{
 "cells": [
  {
   "cell_type": "code",
   "execution_count": 1,
   "metadata": {},
   "outputs": [],
   "source": [
    "#Given an input array outputs all the unique pairs sum upto a specific value k\n",
    "#if the given array is [1,3,2,2,4,0] and k value is 4 then it would return (1,3)(2,2),(4,0)"
   ]
  },
  {
   "cell_type": "code",
   "execution_count": 7,
   "metadata": {},
   "outputs": [
    {
     "name": "stdout",
     "output_type": "stream",
     "text": [
      "(1, 3)\n",
      "(0, 4)\n",
      "(2, 2)\n"
     ]
    }
   ],
   "source": [
    "arr=[1,3,2,2,4,0]\n",
    "k=4\n",
    "\n",
    "def arrays(arr,k):\n",
    "    if len(arr)<2:\n",
    "        return print('Not a valid size')\n",
    "    \n",
    "    check=set()\n",
    "    op=set()\n",
    "    \n",
    "    for i in arr:\n",
    "        target = k - i\n",
    "        \n",
    "        if target not in check:\n",
    "            check.add(i)\n",
    "        \n",
    "        else:\n",
    "            op.add((min(i,target),max(i,target)))\n",
    "    \n",
    "    print('\\n'.join(map(str,list(op))))\n",
    "    \n",
    "arrays(arr,k)    \n",
    "    "
   ]
  },
  {
   "cell_type": "code",
   "execution_count": null,
   "metadata": {},
   "outputs": [],
   "source": []
  }
 ],
 "metadata": {
  "kernelspec": {
   "display_name": "Python 3",
   "language": "python",
   "name": "python3"
  },
  "language_info": {
   "codemirror_mode": {
    "name": "ipython",
    "version": 3
   },
   "file_extension": ".py",
   "mimetype": "text/x-python",
   "name": "python",
   "nbconvert_exporter": "python",
   "pygments_lexer": "ipython3",
   "version": "3.8.3"
  }
 },
 "nbformat": 4,
 "nbformat_minor": 4
}
